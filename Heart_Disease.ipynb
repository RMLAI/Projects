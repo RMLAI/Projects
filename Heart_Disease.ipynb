{
  "nbformat": 4,
  "nbformat_minor": 0,
  "metadata": {
    "colab": {
      "name": "Heart_Disease.ipynb",
      "provenance": [],
      "collapsed_sections": [],
      "mount_file_id": "1rBR6UzATE5VUHJLmIfaaHXCLrm1tkPPl",
      "authorship_tag": "ABX9TyNMktUgz5Wd+3nNGyQtVaOf",
      "include_colab_link": true
    },
    "kernelspec": {
      "name": "python3",
      "display_name": "Python 3"
    }
  },
  "cells": [
    {
      "cell_type": "markdown",
      "metadata": {
        "id": "view-in-github",
        "colab_type": "text"
      },
      "source": [
        "<a href=\"https://colab.research.google.com/github/RMLAI/Projects/blob/master/Heart_Disease.ipynb\" target=\"_parent\"><img src=\"https://colab.research.google.com/assets/colab-badge.svg\" alt=\"Open In Colab\"/></a>"
      ]
    },
    {
      "cell_type": "markdown",
      "metadata": {
        "id": "NNfTB1ZtwRSI",
        "colab_type": "text"
      },
      "source": [
        "**Predicting the Heart Disease Incidence using Machine Learning**\n",
        "\n",
        "This notebook looks at the various Python based ML libraries in attempt to build an ML model capable of predicting whether a person can have a heart disease or not by analyzing medical attributes\n",
        "\n",
        "**The Approach:**\n",
        "\n",
        "\n",
        "1.   Problem Definition\n",
        "2.   Data collection and EDA\n",
        "3.   Evaluation \n",
        "4.   Features Engineering\n",
        "5.   Modelling\n",
        "6.   Experimentation\n",
        "\n",
        "\n",
        "**1. Problem Definition**\n",
        "\n",
        "> Given the various medical attributes(predictor variables) can we predict the incidence of heart disease in patients?\n",
        "\n",
        "**2. Data Collection**\n",
        "\n",
        ">The original data is from the UCI ML data repository\n",
        "Link - https://archive.ics.uci.edu/ml/datasets/Heart+Disease\n",
        "\n",
        "**3.Evaluation**\n",
        "\n",
        "Selecting the evaluation metric is necessary before the project to ensure whether to give the greenlight the project or to kill it\n",
        "\n",
        "**4.Features**\n",
        "Features or variables are the predictors which determine the status of the response variable. Various operations may be done on the features like feature engineering - like normalization, combining various features, PCA, etc.\n",
        "EDA is also done to gain some initial understanding"
      ]
    },
    {
      "cell_type": "markdown",
      "metadata": {
        "id": "JjU8E1r23cwS",
        "colab_type": "text"
      },
      "source": [
        "**Heart Disease Data Dictionary**\n",
        "\n",
        "A data dictionary describes the data you're dealing with. Not all datasets come with them so this is where you may have to do your research or ask a subject matter expert (someone who knows about the data) for more.\n",
        "\n",
        "The following are the features we'll use to predict our target variable (heart disease or no heart disease).\n",
        "\n",
        "\n",
        "age - age in years\n",
        "\n",
        "sex - (1 = male; 0 = female)\n",
        "\n",
        "cp - chest pain type\n",
        "\n",
        "0: Typical angina: chest pain related decrease blood supply to the heart\n",
        "1: Atypical angina: chest pain not related to heart\n",
        "2: Non-anginal pain: typically esophageal spasms (non heart related)\n",
        "3: Asymptomatic: chest pain not showing signs of disease\n",
        "\n",
        "trestbps - resting blood pressure (in mm Hg on admission to the hospital)\n",
        "anything above 130-140 is typically cause for concern\n",
        "\n",
        "chol - serum cholestoral in mg/dl\n",
        "serum = LDL + HDL + .2 * triglycerides\n",
        "above 200 is cause for concern\n",
        "\n",
        "fbs - (fasting blood sugar > 120 mg/dl) (1 = true; 0 = false)\n",
        "'>126' mg/dL signals diabetes\n",
        "\n",
        "restecg - resting electrocardiographic results\n",
        "0: Nothing to note\n",
        "1: ST-T Wave abnormality\n",
        "can range from mild symptoms to severe problems\n",
        "signals non-normal heart beat\n",
        "2: Possible or definite left ventricular hypertrophy\n",
        "Enlarged heart's main pumping chamber\n",
        "\n",
        "thalach - maximum heart rate achieved\n",
        "\n",
        "exang - exercise induced angina (1 = yes; 0 = no)\n",
        "\n",
        "oldpeak - ST depression induced by exercise relative to rest\n",
        "looks at stress of heart during excercise\n",
        "unhealthy heart will stress more\n",
        "\n",
        "slope - the slope of the peak exercise ST segment\n",
        "0: Upsloping: better heart rate with excercise (uncommon)\n",
        "1: Flatsloping: minimal change (typical healthy heart)\n",
        "2: Downslopins: signs of unhealthy heart\n",
        "\n",
        "ca - number of major vessels (0-3) colored by flourosopy\n",
        "colored vessel means the doctor can see the blood passing through\n",
        "the more blood movement the better (no clots)\n",
        "\n",
        "thal - thalium stress result\n",
        "1,3: normal\n",
        "6: fixed defect: used to be defect but ok now\n",
        "7: reversable defect: no proper blood movement when excercising\n",
        "\n",
        "target - have disease or not (1=yes, 0=no) (= the predicted attribute)\n",
        "Note: No personal identifiable information (PPI) can be found in the dataset.\n",
        "\n",
        "It's a good idea to save these to a Python dictionary or in an external file, so we can look at them later without coming back here."
      ]
    },
    {
      "cell_type": "code",
      "metadata": {
        "id": "w-mvvcm_3byv",
        "colab_type": "code",
        "colab": {}
      },
      "source": [
        "#Imporing the common libraries\n",
        "import numpy as np\n",
        "import pandas as pd\n",
        "import matplotlib.pyplot as plt\n",
        "%matplotlib inline\n",
        "import seaborn as sns\n",
        "\n",
        "#Import the most useful binary classification models\n",
        "from sklearn.linear_model import LogisticRegression\n",
        "from sklearn.neighbors import KNeighborsClassifier\n",
        "from sklearn.ensemble import RandomForestClassifier\n",
        "\n",
        "# Import Model evaluators\n",
        "from sklearn.model_selection import train_test_split\n",
        "from sklearn.model_selection import GridSearchCV,RandomizedSearchCV\n",
        "from sklearn.metrics import classification_report,confusion_matrix\n",
        "from sklearn.metrics import precision_score,f1_score,recall_score,accuracy_score\n",
        "from sklearn.metrics import plot_roc_curve"
      ],
      "execution_count": 0,
      "outputs": []
    }
  ]
}